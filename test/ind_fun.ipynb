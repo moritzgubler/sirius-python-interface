{
 "cells": [
  {
   "cell_type": "code",
   "execution_count": 44,
   "metadata": {},
   "outputs": [],
   "source": [
    "import numpy as np\n",
    "nx = 2\n",
    "ny = 3\n",
    "nz = 4\n",
    "N = nx * ny * nz\n",
    "def convert_index(ix, iy, iz):\n",
    "    return (ix + nx * (iy + iz * ny))"
   ]
  },
  {
   "cell_type": "code",
   "execution_count": 51,
   "metadata": {},
   "outputs": [],
   "source": [
    "def back_con(j):\n",
    "    iz = (j//nx)//ny\n",
    "    iy = j//nx - ny * iz\n",
    "    ix = j - nx * (iy + iz * ny)\n",
    "    return np.array([ix, iy, iz]"
   ]
  },
  {
   "cell_type": "code",
   "execution_count": 46,
   "metadata": {},
   "outputs": [
    {
     "name": "stdout",
     "output_type": "stream",
     "text": [
      "0 (0, 0, 0)\n",
      "1 (1, 0, 0)\n",
      "2 (0, 1, 0)\n",
      "3 (1, 1, 0)\n",
      "4 (0, 2, 0)\n",
      "5 (1, 2, 0)\n",
      "6 (0, 0, 1)\n",
      "7 (1, 0, 1)\n",
      "8 (0, 1, 1)\n",
      "9 (1, 1, 1)\n",
      "10 (0, 2, 1)\n",
      "11 (1, 2, 1)\n",
      "12 (0, 0, 2)\n",
      "13 (1, 0, 2)\n",
      "14 (0, 1, 2)\n",
      "15 (1, 1, 2)\n",
      "16 (0, 2, 2)\n",
      "17 (1, 2, 2)\n",
      "18 (0, 0, 3)\n",
      "19 (1, 0, 3)\n",
      "20 (0, 1, 3)\n",
      "21 (1, 1, 3)\n",
      "22 (0, 2, 3)\n",
      "23 (1, 2, 3)\n"
     ]
    }
   ],
   "source": [
    "for j in range(N):\n",
    "    print(j, back_con(j))"
   ]
  },
  {
   "cell_type": "code",
   "execution_count": 53,
   "metadata": {},
   "outputs": [
    {
     "name": "stdout",
     "output_type": "stream",
     "text": [
      "[[1 0 1]\n",
      " [0 1 1]\n",
      " [0 0 0]]\n"
     ]
    }
   ],
   "source": [
    "print(back_con(np.array([1, 2, 3])))"
   ]
  },
  {
   "cell_type": "code",
   "execution_count": 40,
   "metadata": {},
   "outputs": [
    {
     "name": "stdout",
     "output_type": "stream",
     "text": [
      "0 ( 0 0 0 ) (0, 0, 0)\n",
      "1 ( 1 0 0 ) (1, 0, 0)\n",
      "2 ( 0 1 0 ) (0, 1, 0)\n",
      "3 ( 1 1 0 ) (1, 1, 0)\n",
      "4 ( 0 2 0 ) (0, 2, 0)\n",
      "5 ( 1 2 0 ) (1, 2, 0)\n",
      "6 ( 0 0 1 ) (0, 0, 1)\n",
      "7 ( 1 0 1 ) (1, 0, 1)\n",
      "8 ( 0 1 1 ) (0, 1, 1)\n",
      "9 ( 1 1 1 ) (1, 1, 1)\n",
      "10 ( 0 2 1 ) (0, 2, 1)\n",
      "11 ( 1 2 1 ) (1, 2, 1)\n",
      "12 ( 0 0 2 ) (0, 0, 2)\n",
      "13 ( 1 0 2 ) (1, 0, 2)\n",
      "14 ( 0 1 2 ) (0, 1, 2)\n",
      "15 ( 1 1 2 ) (1, 1, 2)\n",
      "16 ( 0 2 2 ) (0, 2, 2)\n",
      "17 ( 1 2 2 ) (1, 2, 2)\n",
      "18 ( 0 0 3 ) (0, 0, 3)\n",
      "19 ( 1 0 3 ) (1, 0, 3)\n",
      "20 ( 0 1 3 ) (0, 1, 3)\n",
      "21 ( 1 1 3 ) (1, 1, 3)\n",
      "22 ( 0 2 3 ) (0, 2, 3)\n",
      "23 ( 1 2 3 ) (1, 2, 3)\n"
     ]
    }
   ],
   "source": [
    "for iz in range(nz):\n",
    "    for iy in range(ny):\n",
    "        for ix in range(nx):\n",
    "            print(convert_index(ix, iy, iz), '(', ix, iy, iz, ')', back_con(convert_index(ix, iy, iz)))"
   ]
  }
 ],
 "metadata": {
  "kernelspec": {
   "display_name": "Python 3",
   "language": "python",
   "name": "python3"
  },
  "language_info": {
   "codemirror_mode": {
    "name": "ipython",
    "version": 3
   },
   "file_extension": ".py",
   "mimetype": "text/x-python",
   "name": "python",
   "nbconvert_exporter": "python",
   "pygments_lexer": "ipython3",
   "version": "3.11.5"
  }
 },
 "nbformat": 4,
 "nbformat_minor": 2
}
